{
 "cells": [
  {
   "cell_type": "markdown",
   "metadata": {},
   "source": [
    "# DAS Code"
   ]
  },
  {
   "cell_type": "code",
   "execution_count": 201,
   "metadata": {},
   "outputs": [],
   "source": [
    "import numpy as np\n",
    "import pandas as pd\n",
    "import pickle\n",
    "import random\n",
    "import geopy.distance\n",
    "import datetime \n",
    "import multiprocessing"
   ]
  },
  {
   "cell_type": "code",
   "execution_count": 98,
   "metadata": {},
   "outputs": [],
   "source": [
    "# Load in Airbnbs and Museum data\n",
    "Abnb = pd.read_csv('AbnbFiltered',index_col = 0)\n",
    "Museum = pd.read_csv('Museum',index_col = 0)"
   ]
  },
  {
   "cell_type": "code",
   "execution_count": 6,
   "metadata": {},
   "outputs": [
    {
     "data": {
      "text/html": [
       "<div>\n",
       "<style scoped>\n",
       "    .dataframe tbody tr th:only-of-type {\n",
       "        vertical-align: middle;\n",
       "    }\n",
       "\n",
       "    .dataframe tbody tr th {\n",
       "        vertical-align: top;\n",
       "    }\n",
       "\n",
       "    .dataframe thead th {\n",
       "        text-align: right;\n",
       "    }\n",
       "</style>\n",
       "<table border=\"1\" class=\"dataframe\">\n",
       "  <thead>\n",
       "    <tr style=\"text-align: right;\">\n",
       "      <th></th>\n",
       "      <th>id</th>\n",
       "      <th>latitude</th>\n",
       "      <th>longitude</th>\n",
       "      <th>price</th>\n",
       "    </tr>\n",
       "  </thead>\n",
       "  <tbody>\n",
       "    <tr>\n",
       "      <th>0</th>\n",
       "      <td>9554</td>\n",
       "      <td>51.587767</td>\n",
       "      <td>-0.105666</td>\n",
       "      <td>35.0</td>\n",
       "    </tr>\n",
       "    <tr>\n",
       "      <th>1</th>\n",
       "      <td>11076</td>\n",
       "      <td>51.515645</td>\n",
       "      <td>-0.314508</td>\n",
       "      <td>70.0</td>\n",
       "    </tr>\n",
       "    <tr>\n",
       "      <th>2</th>\n",
       "      <td>90663</td>\n",
       "      <td>51.507800</td>\n",
       "      <td>-0.122597</td>\n",
       "      <td>231.0</td>\n",
       "    </tr>\n",
       "    <tr>\n",
       "      <th>3</th>\n",
       "      <td>13913</td>\n",
       "      <td>51.568017</td>\n",
       "      <td>-0.111208</td>\n",
       "      <td>55.0</td>\n",
       "    </tr>\n",
       "    <tr>\n",
       "      <th>4</th>\n",
       "      <td>90681</td>\n",
       "      <td>51.447624</td>\n",
       "      <td>-0.057157</td>\n",
       "      <td>51.0</td>\n",
       "    </tr>\n",
       "  </tbody>\n",
       "</table>\n",
       "</div>"
      ],
      "text/plain": [
       "      id   latitude  longitude  price\n",
       "0   9554  51.587767  -0.105666   35.0\n",
       "1  11076  51.515645  -0.314508   70.0\n",
       "2  90663  51.507800  -0.122597  231.0\n",
       "3  13913  51.568017  -0.111208   55.0\n",
       "4  90681  51.447624  -0.057157   51.0"
      ]
     },
     "execution_count": 6,
     "metadata": {},
     "output_type": "execute_result"
    }
   ],
   "source": [
    "Abnb.head()"
   ]
  },
  {
   "cell_type": "code",
   "execution_count": 7,
   "metadata": {},
   "outputs": [
    {
     "data": {
      "text/html": [
       "<div>\n",
       "<style scoped>\n",
       "    .dataframe tbody tr th:only-of-type {\n",
       "        vertical-align: middle;\n",
       "    }\n",
       "\n",
       "    .dataframe tbody tr th {\n",
       "        vertical-align: top;\n",
       "    }\n",
       "\n",
       "    .dataframe thead th {\n",
       "        text-align: right;\n",
       "    }\n",
       "</style>\n",
       "<table border=\"1\" class=\"dataframe\">\n",
       "  <thead>\n",
       "    <tr style=\"text-align: right;\">\n",
       "      <th></th>\n",
       "      <th>latitude</th>\n",
       "      <th>longitude</th>\n",
       "    </tr>\n",
       "  </thead>\n",
       "  <tbody>\n",
       "    <tr>\n",
       "      <th>2 Willow Road</th>\n",
       "      <td>51.557200</td>\n",
       "      <td>-0.169169</td>\n",
       "    </tr>\n",
       "    <tr>\n",
       "      <th>7 Hammersmith Terrace</th>\n",
       "      <td>51.489823</td>\n",
       "      <td>-0.242515</td>\n",
       "    </tr>\n",
       "    <tr>\n",
       "      <th>18 Stafford Terrace</th>\n",
       "      <td>51.500472</td>\n",
       "      <td>-0.196944</td>\n",
       "    </tr>\n",
       "    <tr>\n",
       "      <th>575 Wandsworth Road</th>\n",
       "      <td>51.469671</td>\n",
       "      <td>-0.140646</td>\n",
       "    </tr>\n",
       "    <tr>\n",
       "      <th>All Hallows-by-the-Tower</th>\n",
       "      <td>51.509400</td>\n",
       "      <td>-0.079400</td>\n",
       "    </tr>\n",
       "  </tbody>\n",
       "</table>\n",
       "</div>"
      ],
      "text/plain": [
       "                           latitude  longitude\n",
       "2 Willow Road             51.557200  -0.169169\n",
       "7 Hammersmith Terrace     51.489823  -0.242515\n",
       "18 Stafford Terrace       51.500472  -0.196944\n",
       "575 Wandsworth Road       51.469671  -0.140646\n",
       "All Hallows-by-the-Tower  51.509400  -0.079400"
      ]
     },
     "execution_count": 7,
     "metadata": {},
     "output_type": "execute_result"
    }
   ],
   "source": [
    "Museum.head()"
   ]
  },
  {
   "cell_type": "markdown",
   "metadata": {},
   "source": [
    "## Profile 3 Distance Calculations"
   ]
  },
  {
   "cell_type": "code",
   "execution_count": 8,
   "metadata": {},
   "outputs": [],
   "source": [
    "######################################\n",
    "######## Profile 3 approaches ########\n",
    "######################################\n",
    "\n",
    "# Use a random number generator to pick two sets or coords for musuem and Airbnb locations\n",
    "\n",
    "AbnbTestCoords = Abnb.iloc[random.randint(1,len(Abnb)),:]\n",
    "MuseumTestCoords = Museum.iloc[random.randint(1,len(Museum)),:]\n",
    "\n",
    "# assign to a tuple \n",
    "AbnbTestCoordsTuple = (AbnbTestCoords.iloc[1],AbnbTestCoords.iloc[2])\n",
    "MuseumTestCoordsTuple = (MuseumTestCoords.iloc[0],MuseumTestCoords.iloc[1])"
   ]
  },
  {
   "cell_type": "code",
   "execution_count": 9,
   "metadata": {},
   "outputs": [],
   "source": [
    "## Geodesic\n",
    "def Geodesic(coords1,coords2):\n",
    "    return geopy.distance.geodesic(coords1,coords2).km"
   ]
  },
  {
   "cell_type": "code",
   "execution_count": 10,
   "metadata": {},
   "outputs": [
    {
     "name": "stdout",
     "output_type": "stream",
     "text": [
      "492 µs ± 64.5 µs per loop (mean ± std. dev. of 7 runs, 100 loops each)\n"
     ]
    }
   ],
   "source": [
    "%timeit  -n 100 Geodesic(AbnbTestCoordsTuple,MuseumTestCoordsTuple)"
   ]
  },
  {
   "cell_type": "code",
   "execution_count": 11,
   "metadata": {},
   "outputs": [],
   "source": [
    "distanceGeoD = Geodesic(AbnbTestCoordsTuple,MuseumTestCoordsTuple)"
   ]
  },
  {
   "cell_type": "code",
   "execution_count": 12,
   "metadata": {},
   "outputs": [],
   "source": [
    "## Great circle distance\n",
    "def GreatCircleDistance(coords1,coords2):\n",
    "    return geopy.distance.great_circle(coords1,coords2).km"
   ]
  },
  {
   "cell_type": "code",
   "execution_count": 13,
   "metadata": {},
   "outputs": [
    {
     "name": "stdout",
     "output_type": "stream",
     "text": [
      "34 µs ± 3.22 µs per loop (mean ± std. dev. of 7 runs, 100 loops each)\n"
     ]
    }
   ],
   "source": [
    "%timeit  -n 100 GreatCircleDistance(AbnbTestCoordsTuple,MuseumTestCoordsTuple)"
   ]
  },
  {
   "cell_type": "code",
   "execution_count": 14,
   "metadata": {},
   "outputs": [],
   "source": [
    "distanceGCD = GreatCircleDistance(AbnbTestCoordsTuple,MuseumTestCoordsTuple)"
   ]
  },
  {
   "cell_type": "code",
   "execution_count": 15,
   "metadata": {},
   "outputs": [],
   "source": [
    "## Vincenty\n",
    "def Vincenty(coords1,coords2):\n",
    "    return geopy.distance.vincenty(coords1,coords2).km"
   ]
  },
  {
   "cell_type": "code",
   "execution_count": 16,
   "metadata": {},
   "outputs": [
    {
     "name": "stdout",
     "output_type": "stream",
     "text": [
      "88 µs ± 43.5 µs per loop (mean ± std. dev. of 7 runs, 100 loops each)\n"
     ]
    }
   ],
   "source": [
    "%timeit  -n 100 Vincenty(AbnbTestCoordsTuple,MuseumTestCoordsTuple)"
   ]
  },
  {
   "cell_type": "code",
   "execution_count": 17,
   "metadata": {},
   "outputs": [],
   "source": [
    "distanceVincenty = Vincenty(AbnbTestCoordsTuple,MuseumTestCoordsTuple)"
   ]
  },
  {
   "cell_type": "code",
   "execution_count": 18,
   "metadata": {},
   "outputs": [
    {
     "name": "stdout",
     "output_type": "stream",
     "text": [
      "3.259536713369614 3.2494782610337207 3.2595367063771805\n"
     ]
    }
   ],
   "source": [
    "print(distanceGeoD,distanceGCD,distanceVincenty)"
   ]
  },
  {
   "cell_type": "markdown",
   "metadata": {},
   "source": [
    "## Pure Python Approach"
   ]
  },
  {
   "cell_type": "code",
   "execution_count": 276,
   "metadata": {},
   "outputs": [],
   "source": [
    "######################################\n",
    "############ Pure Python #############\n",
    "######################################\n",
    "\n",
    "# Create a function that will calculate the min distance in km \n",
    "# Not all museums popular, could count number of museums within x distance\n",
    "\n",
    "def minDist(df1,df2):\n",
    "    ''' Take two dataframes of coordinates and calculate the min distance \n",
    "    from one df1 coords to all df2 coords. Return a dictionary with the rows id and minimum distance'''\n",
    "    start=datetime.datetime.now()\n",
    "    min_distances={}\n",
    "    for i in range(len(df1)):\n",
    "        Airbnb_coords = (df1['latitude'][i],df1['longitude'][i])\n",
    "        distances = []\n",
    "        for j in range(len(df2)):\n",
    "            museum_coords = (df2['latitude'][j],df2['longitude'][j])\n",
    "            distances.append(geopy.distance.vincenty(Airbnb_coords, museum_coords).km)\n",
    "        min_distances.update({df1['id'][i]:min(distances)})\n",
    "    print(\"{} - finish in {}\".format(datetime.datetime.now(), datetime.datetime.now()-start))\n",
    "    return min_distances"
   ]
  },
  {
   "cell_type": "code",
   "execution_count": 294,
   "metadata": {},
   "outputs": [],
   "source": [
    "# an attempt to compile the single threaded approach\n",
    "\n",
    "from numba import jit , prange\n",
    "# just in time\n",
    "@jit(parallel=True)\n",
    "def minDist_2(df1,df2):\n",
    "    ''' Take two dataframes of coordinates and calculate the min distance \n",
    "    from one df1 coords to all df2 coords. Return a dictionary with the rows id and minimum distance'''\n",
    "    start=datetime.datetime.now()\n",
    "    min_distances={}\n",
    "    for i in prange(len(df1)):\n",
    "        Airbnb_coords = (df1['latitude'][i],df1['longitude'][i])\n",
    "        distances = []\n",
    "        for j in prange(len(df2)):\n",
    "            museum_coords = (df2['latitude'][j],df2['longitude'][j])\n",
    "            distances.append(geopy.distance.vincenty(Airbnb_coords, museum_coords).km)\n",
    "        min_distances.update({df1['id'][i]:min(distances)})\n",
    "    print(\"{} - finish in {}\".format(datetime.datetime.now(), datetime.datetime.now()-start))\n",
    "    return min_distances"
   ]
  },
  {
   "cell_type": "code",
   "execution_count": 295,
   "metadata": {},
   "outputs": [
    {
     "name": "stdout",
     "output_type": "stream",
     "text": [
      "2019-01-03 12:57:09.572719 - finish in 0:00:03.067681\n"
     ]
    }
   ],
   "source": [
    "# From playing around with prange no significant time improvement was found\n",
    "MinTest = minDist_2(Abnb.iloc[:100,:],Museum)"
   ]
  },
  {
   "cell_type": "code",
   "execution_count": 317,
   "metadata": {},
   "outputs": [
    {
     "name": "stdout",
     "output_type": "stream",
     "text": [
      "2019-01-03 13:20:31.763962 - finish in 0:00:02.812593\n"
     ]
    }
   ],
   "source": [
    "# Try on a subset to see if function works \n",
    "MinTest = minDist(Abnb.iloc[:100,:],Museum)"
   ]
  },
  {
   "cell_type": "code",
   "execution_count": 78,
   "metadata": {},
   "outputs": [
    {
     "name": "stdout",
     "output_type": "stream",
     "text": [
      "2019-01-02 15:23:36.650700 - finish in 0:24:11.102293\n"
     ]
    }
   ],
   "source": [
    "# Once happy with the function working, compute for all\n",
    "SingleResults = minDist(Abnb,Museum)"
   ]
  },
  {
   "cell_type": "code",
   "execution_count": 21,
   "metadata": {},
   "outputs": [
    {
     "name": "stdout",
     "output_type": "stream",
     "text": [
      "2019-01-02 12:22:03.537900 - finish in 0:00:02.559782\n",
      "2019-01-02 12:22:05.181489 - finish in 0:00:01.641460\n",
      "2019-01-02 12:22:06.796762 - finish in 0:00:01.614785\n",
      "2019-01-02 12:22:08.426811 - finish in 0:00:01.628376\n",
      "2019-01-02 12:22:10.041719 - finish in 0:00:01.614454\n",
      "2019-01-02 12:22:11.652890 - finish in 0:00:01.610636\n",
      "2019-01-02 12:22:13.259768 - finish in 0:00:01.606408\n",
      "2019-01-02 12:22:14.868789 - finish in 0:00:01.608539\n",
      "1.62 s ± 12.1 ms per loop (mean ± std. dev. of 7 runs, 1 loop each)\n"
     ]
    }
   ],
   "source": [
    "# timeit was used on a small subset to get an accurate measurement of time taken\n",
    "%timeit MinTest = minDist(Abnb.iloc[:100,:],Museum)"
   ]
  },
  {
   "cell_type": "code",
   "execution_count": 22,
   "metadata": {},
   "outputs": [
    {
     "name": "stdout",
     "output_type": "stream",
     "text": [
      "2019-01-02 12:22:30.394856 - finish in 0:00:06.814456\n"
     ]
    },
    {
     "data": {
      "text/plain": [
       "Timer unit: 1e-06 s\n",
       "\n",
       "Total time: 6.74432 s\n",
       "File: <ipython-input-19-a079e56cd3bb>\n",
       "Function: minDist at line 8\n",
       "\n",
       "Line #      Hits         Time  Per Hit   % Time  Line Contents\n",
       "==============================================================\n",
       "     8                                           def minDist(df1,df2):\n",
       "     9                                               ''' Take two dataframes of coordinates and calculate the min distance \n",
       "    10                                               from one df1 coords to all df2 coords. Return a dictionary with the rows id and minimum distance'''\n",
       "    11         1         18.0     18.0      0.0      start=datetime.datetime.now()\n",
       "    12         1          2.0      2.0      0.0      min_distances={}\n",
       "    13       101        136.0      1.3      0.0      for i in range(len(df1)):\n",
       "    14       100       9715.0     97.2      0.1          Airbnb_coords = (df1['latitude'][i],df1['longitude'][i])\n",
       "    15       100        384.0      3.8      0.0          distances = []\n",
       "    16     24800      27644.0      1.1      0.4          for j in range(len(df2)):\n",
       "    17     24700    2403447.0     97.3     35.6              museum_coords = (df2['latitude'][j],df2['longitude'][j])\n",
       "    18     24700    4296018.0    173.9     63.7              distances.append(geopy.distance.vincenty(Airbnb_coords, museum_coords).km)\n",
       "    19       100       6754.0     67.5      0.1          min_distances.update({df1['id'][i]:min(distances)})\n",
       "    20         1        200.0    200.0      0.0      print(\"{} - finish in {}\".format(datetime.datetime.now(), datetime.datetime.now()-start))\n",
       "    21         1          1.0      1.0      0.0      return min_distances"
      ]
     },
     "metadata": {},
     "output_type": "display_data"
    }
   ],
   "source": [
    "#%load_ext line_profiler\n",
    "# line profiler was used to understand where the most amount of time was occuring\n",
    "%lprun -f minDist minDist(Abnb.iloc[:100,:],Museum)"
   ]
  },
  {
   "cell_type": "code",
   "execution_count": 72,
   "metadata": {},
   "outputs": [],
   "source": [
    "%load_ext memory_profiler"
   ]
  },
  {
   "cell_type": "code",
   "execution_count": 73,
   "metadata": {},
   "outputs": [
    {
     "name": "stdout",
     "output_type": "stream",
     "text": [
      "2019-01-02 14:13:40.946684 - finish in 0:00:18.909650\n",
      "peak memory: 243.67 MiB, increment: 0.00 MiB\n"
     ]
    }
   ],
   "source": [
    "# memit was used to find out how much memory was used \n",
    "%memit MinTest = minDist(Abnb.iloc[:1000,:],Museum)"
   ]
  },
  {
   "cell_type": "code",
   "execution_count": 79,
   "metadata": {},
   "outputs": [
    {
     "name": "stdout",
     "output_type": "stream",
     "text": [
      "2019-01-02 15:46:16.382733 - finish in 0:21:25.056201\n",
      "peak memory: 275.46 MiB, increment: 5.86 MiB\n"
     ]
    }
   ],
   "source": [
    "%memit MinTest = minDist(Abnb,Museum)"
   ]
  },
  {
   "cell_type": "code",
   "execution_count": 87,
   "metadata": {},
   "outputs": [
    {
     "name": "stdout",
     "output_type": "stream",
     "text": [
      "Writing SingleMem.py\n"
     ]
    }
   ],
   "source": [
    "%%file SingleMem.py\n",
    "\n",
    "import numpy as np\n",
    "import pandas as pd\n",
    "import pickle\n",
    "import random\n",
    "import geopy.distance\n",
    "import datetime \n",
    "\n",
    "\n",
    "@profile\n",
    "def minDist(df1,df2):\n",
    "    ''' Take two dataframes of coordinates and calculate the min distance \n",
    "    from one df1 coords to all df2 coords. Return a dictionary with the rows id and minimum distance'''\n",
    "    start=datetime.datetime.now()\n",
    "    min_distances={}\n",
    "    for i in range(len(df1)):\n",
    "        Airbnb_coords = (df1['latitude'][i],df1['longitude'][i])\n",
    "        distances = []\n",
    "        for j in range(len(df2)):\n",
    "            museum_coords = (df2['latitude'][j],df2['longitude'][j])\n",
    "            distances.append(geopy.distance.vincenty(Airbnb_coords, museum_coords).km)\n",
    "        min_distances.update({df1['id'][i]:min(distances)})\n",
    "    print(\"{} - finish in {}\".format(datetime.datetime.now(), datetime.datetime.now()-start))\n",
    "    return min_distances\n",
    "\n",
    "# Load in Airbnbs and Museum data\n",
    "Abnb = pd.read_csv('AbnbFiltered',index_col = 0)\n",
    "Museum = pd.read_csv('Museum',index_col = 0)\n",
    "\n",
    "minDist(Abnb,Museum)\n"
   ]
  },
  {
   "cell_type": "code",
   "execution_count": 90,
   "metadata": {},
   "outputs": [
    {
     "name": "stdout",
     "output_type": "stream",
     "text": [
      "/home/shil5154/DAS\n"
     ]
    }
   ],
   "source": [
    "import os\n",
    "print(os.getcwd())"
   ]
  },
  {
   "cell_type": "code",
   "execution_count": 96,
   "metadata": {},
   "outputs": [
    {
     "name": "stdout",
     "output_type": "stream",
     "text": [
      "/bin/sh: 1: -m: not found\n"
     ]
    }
   ],
   "source": [
    "! -m memory_profiler SingleMem.py"
   ]
  },
  {
   "cell_type": "markdown",
   "metadata": {},
   "source": [
    "## Multiprocessing approach"
   ]
  },
  {
   "cell_type": "code",
   "execution_count": 153,
   "metadata": {},
   "outputs": [],
   "source": [
    "################################\n",
    "####### Multiprocessing ########\n",
    "################################\n",
    "\n",
    "# First define two functions\n",
    "# One function will be used in the multiprocess code\n",
    "# The function used will contain the second function \n",
    "\n",
    "\n",
    "# This is the first function created, it will be called by the second function\n",
    "def Dist(museums, abnbdf):\n",
    "    ''' This function takes a dataframe as input and a row from a dataframe to calculate the distances between the row and all the \n",
    "    geocoords in the input dataframe'''\n",
    "    distances = []\n",
    "    for i in range(len(museums)):\n",
    "        distances.append(geopy.distance.vincenty(((museums['latitude'][i]),(museums['longitude'][i])),(abnbdf.latitude,abnbdf.longitude)).km)\n",
    "    return min(distances)"
   ]
  },
  {
   "cell_type": "code",
   "execution_count": 154,
   "metadata": {},
   "outputs": [],
   "source": [
    "# This function will be used in the multiprocessing code, It will call upon the Dist function\n",
    "# Create a function to use within the multiprocessing code\n",
    "def minDist_multi(Abnbdf):\n",
    "    '''This function iterates the Dist function over all rows in a dataframe against the global dataframe Museum and stores the minimum\n",
    "    distance in a dictionary with the rows id'''\n",
    "    min_distances = {}\n",
    "    for i in range(len(Abnbdf)):\n",
    "        min_distances[(Abnbdf.iloc[i]).id]=Dist(Museum,Abnbdf.iloc[i])\n",
    "    return min_distances"
   ]
  },
  {
   "cell_type": "code",
   "execution_count": 155,
   "metadata": {},
   "outputs": [
    {
     "name": "stdout",
     "output_type": "stream",
     "text": [
      "2.35 s ± 40.5 ms per loop (mean ± std. dev. of 7 runs, 1 loop each)\n"
     ]
    }
   ],
   "source": [
    "%timeit test=minDist_multi(Abnb.iloc[:100,:])"
   ]
  },
  {
   "cell_type": "code",
   "execution_count": 245,
   "metadata": {},
   "outputs": [],
   "source": [
    "# here initiate a multiprocess pool\n",
    "\n",
    "start=datetime.datetime.now()\n",
    "min_dist ={}\n",
    "#Start up a pool and run minDist_multi for each row in the Airbnb data frame\n",
    "with multiprocessing.Pool(10) as pool:\n",
    "    results=pool.imap_unordered(minDist_multi, np.array_split(Abnb,10),chunksize=1) #the number of splits is equal to the number of processes\n",
    "    #Combine the results from the pool and return the combined results\n",
    "    count=0\n",
    "    for r in results:\n",
    "        count+=1\n",
    "        min_dist={**r,**min_dist} \n",
    "        print(\"result {} is {}\".format(count,r))\n",
    "print(\"{} - finish in {}\".format(datetime.datetime.now(), datetime.datetime.now()-start))\n"
   ]
  },
  {
   "cell_type": "code",
   "execution_count": 315,
   "metadata": {},
   "outputs": [
    {
     "name": "stdout",
     "output_type": "stream",
     "text": [
      "result 1 is {96052.0: 3.0596245938908524, 45168.0: 1.0665959998629921, 36299.0: 1.1170324290467444, 45434.0: 2.4550837371474676, 96640.0: 1.1419827551523196, 36660.0: 1.5366101861411061, 97178.0: 1.3209702219119217, 45670.0: 2.1203019992769185, 36986.0: 0.5617311119093585, 46491.0: 0.7787020665813957}\n",
      "result 2 is {25023.0: 1.4031085120490079, 92694.0: 0.9114337832437535, 41870.0: 2.993596684274146, 25123.0: 2.521245798044019, 42001.0: 0.4788866525676638, 42010.0: 1.682376254575881, 93015.0: 0.9820076640724409, 93390.0: 0.9543268775439937, 26223.0: 0.28444345291683704, 93457.0: 0.6320929081594446}\n",
      "result 3 is {41311.0: 2.6153437442389986, 92352.0: 0.13351404170965328, 92399.0: 1.1109933606682405, 24328.0: 0.9582933955377876, 92644.0: 1.888141739993598, 41445.0: 2.3689231561588575, 24903.0: 0.77811510805596, 41509.0: 0.5355629957007041, 41712.0: 0.1459171155935787, 92668.0: 4.050090756945899}\n",
      "result 4 is {51830.0: 1.2478572122009042, 190015.0: 0.402301073177368, 52151.0: 1.0408911018890925, 102565.0: 0.43446082974064537, 190028.0: 1.0569575471057324, 103682.0: 0.6725756222979362, 53242.0: 0.8094906065253629, 53245.0: 0.8103216879760035, 190661.0: 1.16855173873823, 54970.0: 2.1260124919006382}\n",
      "result 5 is {98776.0: 2.5531587425464846, 99251.0: 0.3327373642015923, 49970.0: 0.6754346355523131, 189002.0: 0.9549014757885099, 51012.0: 0.2500803370928062, 100326.0: 1.013807475202594, 101083.0: 1.0985548559713174, 189745.0: 1.1325480492676574, 101923.0: 1.609700872648697, 102391.0: 0.22580440786298636}\n",
      "result 6 is {9554.0: 2.4457005955064646, 11076.0: 0.7151611604822878, 90663.0: 0.17010389877382606, 13913.0: 1.2940634584113242, 90681.0: 0.8269283104577889, 90700.0: 0.933236406461463, 91946.0: 0.26718886342181264, 39387.0: 1.3362535826735746, 40228.0: 1.4559733394569327, 17402.0: 0.3386037720064529}\n",
      "result 7 is {33332.0: 1.4108153574928513, 44144.0: 1.6729855685927706, 34144.0: 0.2099361211452217, 44237.0: 1.6120247369282024, 44649.0: 0.8983272277323474, 45163.0: 1.1257192647026992, 93783.0: 1.1344747956395982, 94138.0: 0.27059712356457233, 34825.0: 0.14074982030225489, 96008.0: 1.457045943792727}\n",
      "result 8 is {37384.0: 0.6696849374398357, 46675.0: 0.8687125372178108, 97209.0: 1.1852796502114502, 97446.0: 0.10364193784143606, 97506.0: 3.0622654057926906, 38151.0: 2.972691379144334, 46992.0: 0.24495363571497492, 38407.0: 0.8601700044604353, 38605.0: 1.8269051774349438, 47192.0: 0.44212831356425036}\n",
      "result 9 is {42053.0: 1.0282357861004896, 42692.0: 0.9827669351909203, 28010.0: 0.4206682882844302, 42941.0: 0.8029236420291326, 93500.0: 0.6091112981484946, 29256.0: 1.3117967978760916, 43129.0: 1.323127467608399, 31361.0: 2.56408230280745, 43202.0: 1.6205696006624413, 93779.0: 0.6295615198096398}\n",
      "result 10 is {97583.0: 3.6078928580249814, 97974.0: 1.4981045629787646, 98271.0: 0.8602495242698425, 38610.0: 1.7629116812675165, 98541.0: 1.9692957056740352, 47369.0: 0.8945594109625012, 49663.0: 0.9851148788065786, 38950.0: 1.5011242641592935, 98750.0: 1.7072347654861246, 186682.0: 1.2765993158719595}\n",
      "2019-01-03 13:20:02.421254 - finish in 0:00:00.973882\n"
     ]
    }
   ],
   "source": [
    "# test the multiprocessing function on the first 100 listings and check it gets the same results as the pure python approach\n",
    "\n",
    "Abnb100 = Abnb.iloc[:100,:]\n",
    "\n",
    "start=datetime.datetime.now()\n",
    "min_dist100 ={}\n",
    "#Start up a pool and run minDist_multi for each row in the Airbnb data frame\n",
    "with multiprocessing.Pool(10) as pool:\n",
    "    results=pool.imap_unordered(minDist_multi, np.array_split(Abnb100,10),chunksize=1) #the number of splits is equal to the number of processes\n",
    "    #Combine the results from the pool and return the combined results\n",
    "    count=0\n",
    "    for r in results:\n",
    "        count+=1\n",
    "        min_dist100={**r,**min_dist100} \n",
    "        print(\"result {} is {}\".format(count,r))\n",
    "print(\"{} - finish in {}\".format(datetime.datetime.now(), datetime.datetime.now()-start))\n"
   ]
  },
  {
   "cell_type": "code",
   "execution_count": 330,
   "metadata": {},
   "outputs": [
    {
     "name": "stdout",
     "output_type": "stream",
     "text": [
      "True\n"
     ]
    }
   ],
   "source": [
    "# Check keys are the same\n",
    "print( 100 == len(min_dist100.keys() & MinTest.keys()))"
   ]
  },
  {
   "cell_type": "code",
   "execution_count": 324,
   "metadata": {},
   "outputs": [],
   "source": [
    "# Round each distance to 2 decimal places for each set of results\n",
    "for k, v in MinTest.items():\n",
    "    v = round(v,2) \n",
    "    MinTest[k] = v "
   ]
  },
  {
   "cell_type": "code",
   "execution_count": 326,
   "metadata": {},
   "outputs": [],
   "source": [
    "for k, v in min_dist100.items():\n",
    "    v = round(v,2) # <--- round() does exact that.\n",
    "    min_dist100[k] = v # <--- You need to put the rounded v back in d"
   ]
  },
  {
   "cell_type": "code",
   "execution_count": 331,
   "metadata": {},
   "outputs": [
    {
     "name": "stdout",
     "output_type": "stream",
     "text": [
      "True\n"
     ]
    }
   ],
   "source": [
    "# Check the length of the same items in the dictionary = 100 \n",
    "print(100 == len(min_dist100.items() & MinTest.items()))"
   ]
  },
  {
   "cell_type": "code",
   "execution_count": 335,
   "metadata": {},
   "outputs": [
    {
     "name": "stdout",
     "output_type": "stream",
     "text": [
      "2019-01-03 18:10:27.619296 - finish in 0:03:37.772449\n"
     ]
    }
   ],
   "source": [
    "# Once happy with results being the same and that the multiprocessing code works, calculate the results for all listings\n",
    "\n",
    "start=datetime.datetime.now()\n",
    "min_dist ={}\n",
    "#Start up a pool and run minDist_multi for each row in the Airbnb data frame\n",
    "with multiprocessing.Pool(10) as pool:\n",
    "    results=pool.imap_unordered(minDist_multi, np.array_split(Abnb,10),chunksize=1) #the number of splits is equal to the number of processes\n",
    "    #Combine the results from the pool and return the combined results\n",
    "    count=0\n",
    "    for r in results:\n",
    "        count+=1\n",
    "        min_dist={**r,**min_dist} \n",
    "#         print(\"result {} is {}\".format(count,r))\n",
    "print(\"{} - finish in {}\".format(datetime.datetime.now(), datetime.datetime.now()-start))\n"
   ]
  },
  {
   "cell_type": "code",
   "execution_count": null,
   "metadata": {},
   "outputs": [],
   "source": [
    "# Pickle results to save them indefinitely\n",
    "\n",
    "filename = 'MinDist'\n",
    "outfile = open(filename,'wb')\n",
    "pickle.dump(min_dist,outfile)\n",
    "outfile.close()"
   ]
  },
  {
   "cell_type": "code",
   "execution_count": 336,
   "metadata": {},
   "outputs": [
    {
     "data": {
      "image/png": "[encoded data removed]",
      "text/plain": [
       "<Figure size 432x288 with 1 Axes>"
      ]
     },
     "metadata": {
      "needs_background": "light"
     },
     "output_type": "display_data"
    }
   ],
   "source": [
    "################################################################\n",
    "####### Results of multiprocessing with different pools ########\n",
    "################################################################\n",
    "\n",
    "# first results of the first 100 listings to check multiprocessing is working \n",
    "# takes 1.789 seconds \n",
    "Abnb100 = Abnb.iloc[:100,:]\n",
    "\n",
    "# takes 9.828 seconds\n",
    "Abnb1000 = Abnb.iloc[:1000,:]\n",
    "\n",
    "### Below are a set of results which I computed with the multiprocessing code fiddling with the number of processors\n",
    "\n",
    "# Full data takes 0:10:10.059769 (3 pools, chunksize 1)\n",
    "\n",
    "# Full data takes 0:06:22.602187 (5 pools, chunksize 1)\n",
    "\n",
    "# Full data takes 0:04:13.585488 (8 pools, chunksize 1)\n",
    "\n",
    "# Full data takes 0:03:24.388929 (10 pools, chunksize 1)\n",
    "\n",
    "# Full data takes 0:03:15.264550 (15 pools, chunksize 1)\n",
    "\n",
    "# Full data takes 0:03:25.767061 (20 pools, chunksize 1)\n",
    "\n",
    "import matplotlib.pyplot as plt\n",
    "\n",
    "Pools = [3,5,8,10,15,20]\n",
    "Time = [10.10,6.23,4.14,3.24,3.15,3.25]\n",
    "\n",
    "plt.plot(Pools,Time)\n",
    "plt.xlabel('Number of Pools')\n",
    "plt.ylabel('Time (minutes)')\n",
    "plt.axis([3, 21, 3, 10])\n",
    "plt.savefig('Pools.png')\n",
    "sns.despine()\n",
    "plt.show()"
   ]
  },
  {
   "cell_type": "raw",
   "metadata": {},
   "source": [
    "# Profile Memory. This cell was run as a standalone .py file with 'mprof run --multiprocess <executable>'\n",
    "\n",
    "import numpy as np\n",
    "import pandas as pd\n",
    "import geopy.distance\n",
    "import datetime \n",
    "import multiprocessing\n",
    "\n",
    "# Load in Airbnbs and Museum data\n",
    "Abnb = pd.read_csv('AbnbFiltered',index_col = 0)\n",
    "Museum = pd.read_csv('Museum',index_col = 0)\n",
    "\n",
    "# get min distance between Airbnb and all museums\n",
    "def Dist(museums, abnbdf):\n",
    "    distances = []\n",
    "    for i in range(len(museums)):\n",
    "        distances.append(geopy.distance.vincenty(((museums['latitude'][i]),(museums['longitude'][i])),(abnbdf.latitude,abnbdf.longitude)))\n",
    "    return min(distances)\n",
    "\n",
    "def minDist_multi(Abnbdf):\n",
    "    min_distances = {}\n",
    "    for i in range(len(Abnbdf)):\n",
    "        min_distances[(Abnbdf.iloc[i]).id]=Dist(Museum,Abnbdf.iloc[i])\n",
    "    return min_distances\n",
    "\n",
    "from memory_profiler import profile\n",
    "\n",
    "@profile\n",
    "def MultiDist(x):\n",
    "    min_dist ={}\n",
    "    #Start up a pool and run tweets_per_city for each file in the list files\n",
    "    with multiprocessing.Pool(10) as pool:\n",
    "        results=pool.imap_unordered(minDist_multi, np.array_split(x,10),chunksize=1) #ENSURE the number of splits is equal to the number of processes (previous line)\n",
    "        #Combine the results from the pool and return the combined results\n",
    "        count=0\n",
    "        for r in results:\n",
    "            count+=1\n",
    "            min_dist={**r,**min_dist} # see https://stackoverflow.com/questions/38987/how-to-merge-two-dictionaries-in-a-single-expression\n",
    "            #print(\"result {} is {}\".format(count,r))\n",
    "    #print(\"{} - finish in {}\".format(datetime.datetime.now(), datetime.datetime.now()-start))\n",
    "    return min_dist\n",
    "\n",
    "MultiDist(Abnb)"
   ]
  },
  {
   "cell_type": "code",
   "execution_count": null,
   "metadata": {},
   "outputs": [],
   "source": [
    "## results stored as mprofile_Results.\n",
    "\n",
    "## Shows that on average, each child is using 67 MiB of data and parent process uses 91 MiB \n",
    "## This totals 670+91 = 781 MiB"
   ]
  },
  {
   "cell_type": "markdown",
   "metadata": {},
   "source": [
    "# Carry out analysis"
   ]
  },
  {
   "cell_type": "code",
   "execution_count": 158,
   "metadata": {},
   "outputs": [],
   "source": [
    "# read in data\n",
    "\n",
    "infile = open('MinDist','rb')\n",
    "MinDist = pickle.load(infile)\n",
    "infile.close()"
   ]
  },
  {
   "cell_type": "code",
   "execution_count": 159,
   "metadata": {},
   "outputs": [],
   "source": [
    "# create data frame from results\n",
    "df = pd.DataFrame.from_dict(MinDist,orient = 'index')"
   ]
  },
  {
   "cell_type": "code",
   "execution_count": 160,
   "metadata": {},
   "outputs": [
    {
     "data": {
      "text/html": [
       "<div>\n",
       "<style scoped>\n",
       "    .dataframe tbody tr th:only-of-type {\n",
       "        vertical-align: middle;\n",
       "    }\n",
       "\n",
       "    .dataframe tbody tr th {\n",
       "        vertical-align: top;\n",
       "    }\n",
       "\n",
       "    .dataframe thead th {\n",
       "        text-align: right;\n",
       "    }\n",
       "</style>\n",
       "<table border=\"1\" class=\"dataframe\">\n",
       "  <thead>\n",
       "    <tr style=\"text-align: right;\">\n",
       "      <th></th>\n",
       "      <th>id</th>\n",
       "      <th>latitude</th>\n",
       "      <th>longitude</th>\n",
       "      <th>price</th>\n",
       "    </tr>\n",
       "  </thead>\n",
       "  <tbody>\n",
       "    <tr>\n",
       "      <th>0</th>\n",
       "      <td>9554</td>\n",
       "      <td>51.587767</td>\n",
       "      <td>-0.105666</td>\n",
       "      <td>35.0</td>\n",
       "    </tr>\n",
       "    <tr>\n",
       "      <th>1</th>\n",
       "      <td>11076</td>\n",
       "      <td>51.515645</td>\n",
       "      <td>-0.314508</td>\n",
       "      <td>70.0</td>\n",
       "    </tr>\n",
       "    <tr>\n",
       "      <th>3</th>\n",
       "      <td>13913</td>\n",
       "      <td>51.568017</td>\n",
       "      <td>-0.111208</td>\n",
       "      <td>55.0</td>\n",
       "    </tr>\n",
       "    <tr>\n",
       "      <th>9</th>\n",
       "      <td>17402</td>\n",
       "      <td>51.520982</td>\n",
       "      <td>-0.140024</td>\n",
       "      <td>300.0</td>\n",
       "    </tr>\n",
       "    <tr>\n",
       "      <th>13</th>\n",
       "      <td>24328</td>\n",
       "      <td>51.472981</td>\n",
       "      <td>-0.163764</td>\n",
       "      <td>150.0</td>\n",
       "    </tr>\n",
       "  </tbody>\n",
       "</table>\n",
       "</div>"
      ],
      "text/plain": [
       "       id   latitude  longitude  price\n",
       "0    9554  51.587767  -0.105666   35.0\n",
       "1   11076  51.515645  -0.314508   70.0\n",
       "3   13913  51.568017  -0.111208   55.0\n",
       "9   17402  51.520982  -0.140024  300.0\n",
       "13  24328  51.472981  -0.163764  150.0"
      ]
     },
     "execution_count": 160,
     "metadata": {},
     "output_type": "execute_result"
    }
   ],
   "source": [
    "Abnb.sort_values(by='id').head()"
   ]
  },
  {
   "cell_type": "code",
   "execution_count": 161,
   "metadata": {},
   "outputs": [],
   "source": [
    "# Creat copy of orginal Airbnb data\n",
    "\n",
    "Abnb2 = Abnb.copy(deep=True)"
   ]
  },
  {
   "cell_type": "code",
   "execution_count": 162,
   "metadata": {},
   "outputs": [],
   "source": [
    "# Merge dataframes\n",
    "\n",
    "MergedDf = Abnb2.merge(df,how = 'inner',right_index = True, left_on = 'id')\n",
    "MergedDf.rename(columns={ df.columns[-1]: \"Distance\" },inplace = True)"
   ]
  },
  {
   "cell_type": "code",
   "execution_count": 169,
   "metadata": {},
   "outputs": [
    {
     "data": {
      "text/html": [
       "<div>\n",
       "<style scoped>\n",
       "    .dataframe tbody tr th:only-of-type {\n",
       "        vertical-align: middle;\n",
       "    }\n",
       "\n",
       "    .dataframe tbody tr th {\n",
       "        vertical-align: top;\n",
       "    }\n",
       "\n",
       "    .dataframe thead th {\n",
       "        text-align: right;\n",
       "    }\n",
       "</style>\n",
       "<table border=\"1\" class=\"dataframe\">\n",
       "  <thead>\n",
       "    <tr style=\"text-align: right;\">\n",
       "      <th></th>\n",
       "      <th>id</th>\n",
       "      <th>latitude</th>\n",
       "      <th>longitude</th>\n",
       "      <th>price</th>\n",
       "      <th>Distance</th>\n",
       "    </tr>\n",
       "  </thead>\n",
       "  <tbody>\n",
       "    <tr>\n",
       "      <th>0</th>\n",
       "      <td>9554</td>\n",
       "      <td>51.587767</td>\n",
       "      <td>-0.105666</td>\n",
       "      <td>35.0</td>\n",
       "      <td>2.445701</td>\n",
       "    </tr>\n",
       "    <tr>\n",
       "      <th>1</th>\n",
       "      <td>11076</td>\n",
       "      <td>51.515645</td>\n",
       "      <td>-0.314508</td>\n",
       "      <td>70.0</td>\n",
       "      <td>0.715161</td>\n",
       "    </tr>\n",
       "    <tr>\n",
       "      <th>2</th>\n",
       "      <td>90663</td>\n",
       "      <td>51.507800</td>\n",
       "      <td>-0.122597</td>\n",
       "      <td>231.0</td>\n",
       "      <td>0.170104</td>\n",
       "    </tr>\n",
       "    <tr>\n",
       "      <th>3</th>\n",
       "      <td>13913</td>\n",
       "      <td>51.568017</td>\n",
       "      <td>-0.111208</td>\n",
       "      <td>55.0</td>\n",
       "      <td>1.294063</td>\n",
       "    </tr>\n",
       "    <tr>\n",
       "      <th>4</th>\n",
       "      <td>90681</td>\n",
       "      <td>51.447624</td>\n",
       "      <td>-0.057157</td>\n",
       "      <td>51.0</td>\n",
       "      <td>0.826928</td>\n",
       "    </tr>\n",
       "  </tbody>\n",
       "</table>\n",
       "</div>"
      ],
      "text/plain": [
       "      id   latitude  longitude  price  Distance\n",
       "0   9554  51.587767  -0.105666   35.0  2.445701\n",
       "1  11076  51.515645  -0.314508   70.0  0.715161\n",
       "2  90663  51.507800  -0.122597  231.0  0.170104\n",
       "3  13913  51.568017  -0.111208   55.0  1.294063\n",
       "4  90681  51.447624  -0.057157   51.0  0.826928"
      ]
     },
     "execution_count": 169,
     "metadata": {},
     "output_type": "execute_result"
    }
   ],
   "source": [
    "MergedDf.head()"
   ]
  },
  {
   "cell_type": "code",
   "execution_count": 246,
   "metadata": {},
   "outputs": [
    {
     "name": "stderr",
     "output_type": "stream",
     "text": [
      "/opt/anaconda3/lib/python3.7/site-packages/scipy/stats/stats.py:1713: FutureWarning: Using a non-tuple sequence for multidimensional indexing is deprecated; use `arr[tuple(seq)]` instead of `arr[seq]`. In the future this will be interpreted as an array index, `arr[np.array(seq)]`, which will result either in an error or a different result.\n",
      "  return np.add.reduce(sorted[indexer] * weights, axis=axis) / sumval\n"
     ]
    },
    {
     "data": {
      "image/png": "[encoded data removed]",
      "text/plain": [
       "<Figure size 432x288 with 1 Axes>"
      ]
     },
     "metadata": {
      "needs_background": "light"
     },
     "output_type": "display_data"
    }
   ],
   "source": [
    "# Summary statistics on distance\n",
    "# MergedDf.hist(column = 'Distance')\n",
    "sns.distplot(MergedDf.Distance)\n",
    "sns.despine()\n",
    "plt.savefig('HistDist.png')"
   ]
  },
  {
   "cell_type": "code",
   "execution_count": 170,
   "metadata": {},
   "outputs": [
    {
     "data": {
      "text/plain": [
       "<matplotlib.axes._subplots.AxesSubplot at 0x7fafc9e3b9e8>"
      ]
     },
     "execution_count": 170,
     "metadata": {},
     "output_type": "execute_result"
    },
    {
     "data": {
      "image/png": "[encoded data removed]",
      "text/plain": [
       "<Figure size 432x288 with 1 Axes>"
      ]
     },
     "metadata": {
      "needs_background": "light"
     },
     "output_type": "display_data"
    }
   ],
   "source": [
    "MergedDf.boxplot(column = 'Distance')"
   ]
  },
  {
   "cell_type": "code",
   "execution_count": 171,
   "metadata": {},
   "outputs": [
    {
     "data": {
      "text/plain": [
       "count    74153.000000\n",
       "mean         1.099194\n",
       "std          0.914138\n",
       "min          0.004081\n",
       "25%          0.435136\n",
       "50%          0.821256\n",
       "75%          1.468541\n",
       "max          8.072363\n",
       "Name: Distance, dtype: float64"
      ]
     },
     "execution_count": 171,
     "metadata": {},
     "output_type": "execute_result"
    }
   ],
   "source": [
    "MergedDf.Distance.describe()"
   ]
  },
  {
   "cell_type": "code",
   "execution_count": 253,
   "metadata": {},
   "outputs": [
    {
     "data": {
      "text/plain": [
       "<matplotlib.axes._subplots.AxesSubplot at 0x7fafc2f17c18>"
      ]
     },
     "execution_count": 253,
     "metadata": {},
     "output_type": "execute_result"
    },
    {
     "data": {
      "image/png": "[encoded data removed]",
      "text/plain": [
       "<Figure size 432x288 with 1 Axes>"
      ]
     },
     "metadata": {
      "needs_background": "light"
     },
     "output_type": "display_data"
    }
   ],
   "source": [
    "# Plot price and dist against each other\n",
    "MergedDf.plot.scatter('Distance','price')"
   ]
  },
  {
   "cell_type": "code",
   "execution_count": 357,
   "metadata": {},
   "outputs": [],
   "source": [
    "# Remove daily price outliers - some prices seem to be artifically high, maybe a data error\n",
    "MergedDf_test = MergedDf[MergedDf['price']<=4000 ]"
   ]
  },
  {
   "cell_type": "code",
   "execution_count": 359,
   "metadata": {},
   "outputs": [
    {
     "data": {
      "text/plain": [
       "<matplotlib.axes._subplots.AxesSubplot at 0x7fafc37e3e80>"
      ]
     },
     "execution_count": 359,
     "metadata": {},
     "output_type": "execute_result"
    },
    {
     "data": {
      "image/png": "[encoded data removed]",
      "text/plain": [
       "<Figure size 432x288 with 1 Axes>"
      ]
     },
     "metadata": {
      "needs_background": "light"
     },
     "output_type": "display_data"
    }
   ],
   "source": [
    "MergedDf_test.plot.scatter('Distance','price')"
   ]
  },
  {
   "cell_type": "code",
   "execution_count": 366,
   "metadata": {},
   "outputs": [
    {
     "data": {
      "image/png": "[encoded data removed]",
      "text/plain": [
       "<Figure size 432x288 with 1 Axes>"
      ]
     },
     "metadata": {
      "needs_background": "light"
     },
     "output_type": "display_data"
    }
   ],
   "source": [
    "plt.scatter(MergedDf_test['Distance'],MergedDf_test['price'], alpha = 0.2)\n",
    "plt.xlabel('Distance (km)')\n",
    "plt.ylabel('Price (£s)')\n",
    "# plt.axis([0, 1.05, 36, 50])\n",
    "sns.despine()\n",
    "plt.savefig('Scatter.png')"
   ]
  },
  {
   "cell_type": "code",
   "execution_count": 415,
   "metadata": {},
   "outputs": [
    {
     "name": "stdout",
     "output_type": "stream",
     "text": [
      "(-0.1809361640180145, 0.0)\n"
     ]
    }
   ],
   "source": [
    "# Perform a pearsonr correlation test\n",
    "\n",
    "from scipy.stats import pearsonr\n",
    "print(pearsonr(MergedDf_test['Distance'], MergedDf_test['price']))\n"
   ]
  },
  {
   "cell_type": "code",
   "execution_count": null,
   "metadata": {},
   "outputs": [],
   "source": []
  }
 ],
 "metadata": {
  "kernelspec": {
   "display_name": "Python 3",
   "language": "python",
   "name": "python3"
  },
  "language_info": {
   "codemirror_mode": {
    "name": "ipython",
    "version": 3
   },
   "file_extension": ".py",
   "mimetype": "text/x-python",
   "name": "python",
   "nbconvert_exporter": "python",
   "pygments_lexer": "ipython3",
   "version": "3.8.8"
  }
 },
 "nbformat": 4,
 "nbformat_minor": 4
}
